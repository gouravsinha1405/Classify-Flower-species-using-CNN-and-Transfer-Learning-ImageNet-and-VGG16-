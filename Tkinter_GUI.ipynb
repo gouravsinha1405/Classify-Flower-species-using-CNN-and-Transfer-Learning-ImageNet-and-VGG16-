{
 "cells": [
  {
   "cell_type": "markdown",
   "metadata": {},
   "source": [
    "## Importing Libraries"
   ]
  },
  {
   "cell_type": "markdown",
   "metadata": {},
   "source": [
    "### Will run only on tensorflow version 2.4.1"
   ]
  },
  {
   "cell_type": "code",
   "execution_count": 48,
   "metadata": {},
   "outputs": [],
   "source": [
    "import tkinter as tk\n",
    "from matplotlib import pyplot as plt\n",
    "import cv2\n",
    "from tkinter.filedialog import askopenfilename\n",
    "import warnings\n",
    "warnings.filterwarnings(\"ignore\")\n",
    "import pandas as pd\n",
    "import scipy.stats as stats\n",
    "import numpy as np\n",
    "from pandas.api.types import is_numeric_dtype\n",
    "from scipy.stats import gamma\n",
    "from sklearn.preprocessing import StandardScaler\n",
    "from keras.utils.np_utils import to_categorical\n",
    "import pickle \n",
    "from sklearn.metrics import mean_squared_error\n",
    "from sklearn.decomposition import PCA\n",
    "#-------Importing tensorflow libraries-------#\n",
    "from tensorflow.python.keras.models import Sequential\n",
    "from tensorflow.python.keras.layers import Dense,Dropout\n",
    "from tensorflow.python.keras.wrappers.scikit_learn import KerasRegressor\n",
    "#------split and pipeline libraries------#\n",
    "from sklearn.model_selection import train_test_split\n",
    "from sklearn.model_selection import cross_val_score\n",
    "from sklearn.model_selection import KFold\n",
    "from sklearn.pipeline import Pipeline\n",
    "import tensorflow"
   ]
  },
  {
   "cell_type": "code",
   "execution_count": 49,
   "metadata": {},
   "outputs": [],
   "source": [
    "from tkinter import *"
   ]
  },
  {
   "cell_type": "markdown",
   "metadata": {},
   "source": [
    "## Feature Engineering and Model Training functions"
   ]
  },
  {
   "cell_type": "code",
   "execution_count": 57,
   "metadata": {},
   "outputs": [],
   "source": [
    "def recall_c(y_true, y_pred):\n",
    "    true_positives = K.sum(K.round(K.clip(y_true * y_pred, 0, 1)))\n",
    "    possible_positives = K.sum(K.round(K.clip(y_true, 0, 1)))\n",
    "    recall = true_positives / (possible_positives + K.epsilon())\n",
    "    return recall\n",
    "\n",
    "def precision_c(y_true, y_pred):\n",
    "    true_positives = K.sum(K.round(K.clip(y_true * y_pred, 0, 1)))\n",
    "    predicted_positives = K.sum(K.round(K.clip(y_pred, 0, 1)))\n",
    "    precision = true_positives / (predicted_positives + K.epsilon())\n",
    "    return precision\n",
    "\n",
    "def f1_score(y_true, y_pred):\n",
    "    precision = precision_c(y_true, y_pred)\n",
    "    recall = recall_c(y_true, y_pred)\n",
    "    return 2*((precision*recall)/(precision+recall+K.epsilon()))\n",
    "def auroc(y_true, y_pred):\n",
    "    return tf.py_func(roc_auc_score, (y_true, y_pred), tf.double)\n",
    "\n",
    "def import_image():\n",
    "    \"\"\"Code to import image\"\"\"\n",
    "    global v,img_check,path\n",
    "    path = askopenfilename()\n",
    "    v.set(path)\n",
    "    \n",
    "    try:\n",
    "        img_check.set(\"\")\n",
    "        \n",
    "        img_check.set(\"Image imported\")\n",
    "    except:\n",
    "        img_check.set(\"Not an image\")\n",
    "    \n",
    "\n",
    "def predict_label():\n",
    "    global predicted_label\n",
    "    img = cv2.imread(path,1)\n",
    "    print(path)\n",
    "    img_rows = img_cols = 256\n",
    "    img_resize = cv2.resize(img,(img_rows,img_cols))\n",
    "    X = np.array(img_resize,np.float32)/255\n",
    "    model = tensorflow.keras.models.load_model('model_trained_onVGG16.h5')\n",
    "    y = model.predict_classes(np.expand_dims(X, axis=0))\n",
    "    predicted_label.set(str(y[0]))"
   ]
  },
  {
   "cell_type": "markdown",
   "metadata": {},
   "source": [
    "## Tkinter GUI code"
   ]
  },
  {
   "cell_type": "code",
   "execution_count": 58,
   "metadata": {},
   "outputs": [],
   "source": [
    "#---------------This section defines our UI----------------------#\n",
    "#----------------Step 1:---------------------------------------#\n",
    "root = tk.Tk()\n",
    "root.title('Classifier GUI - Great Learning')\n",
    "\n",
    "\n",
    "tk.Label(root, text='Step 1: File Name').grid(row=5, column=0)\n",
    "v = tk.StringVar()\n",
    "predicted_label = tk.StringVar()\n",
    "img_check = tk.StringVar()\n",
    "entry = tk.Entry(root, textvariable=v).grid(row=5, column=1)\n",
    "tk.Button(root, text='Import Data',command=import_image).grid(row=5, column=2)\n",
    "entry2 = tk.Entry(root, textvariable=img_check).grid(row=5, column=3)\n",
    "\n",
    "tk.Button(root, text='Predict',command=predict_label).grid(row=8, column=2)\n",
    "entry3 = tk.Entry(root, textvariable=predicted_label).grid(row=7, column=2)\n",
    "\n",
    "root.mainloop()"
   ]
  },
  {
   "cell_type": "code",
   "execution_count": null,
   "metadata": {},
   "outputs": [],
   "source": []
  }
 ],
 "metadata": {
  "kernelspec": {
   "display_name": "Python 3",
   "language": "python",
   "name": "python3"
  },
  "language_info": {
   "codemirror_mode": {
    "name": "ipython",
    "version": 3
   },
   "file_extension": ".py",
   "mimetype": "text/x-python",
   "name": "python",
   "nbconvert_exporter": "python",
   "pygments_lexer": "ipython3",
   "version": "3.7.4"
  }
 },
 "nbformat": 4,
 "nbformat_minor": 2
}
